import matplotlib.pyplot as plt
import numpy as np
from scipy.optimize import curve_fit

# 用指数形式来拟合

x = np.array([4,8,16,32,64,128,256,1024])

ynor = np.array([0,0,0,0.003,0.014,0.128,1.043,9.542,74.252,773.069])

ystr=np.array([])


def func(x, a, b):

    return a * np.exp(b / x)


popt, pcov = curve_fit(func, x, y)

a = popt[0]  # popt里面是拟合系数，读者可以自己help其用法

b = popt[1]

yvals = func(x, a, b)

plot1 = plt.plot(x, y, "*", label="original values")

plot2 = plt.plot(x, yvals, "r", label="curve_fit values")

plt.xlabel("xaxis")

plt.ylabel("yaxis")

plt.legend(loc=4)  # 指定legend的位置,读者可以自己help它的用法

plt.title("curve_fit")

plt.show()
