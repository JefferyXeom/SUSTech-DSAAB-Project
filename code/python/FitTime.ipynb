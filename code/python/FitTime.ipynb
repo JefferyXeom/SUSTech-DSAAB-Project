{
 "cells": [
  {
   "cell_type": "code",
   "execution_count": null,
   "metadata": {},
   "outputs": [],
   "source": [
    "import matplotlib.pyplot as plt\n",
    "import numpy as np\n",
    "from scipy.optimize import curve_fit\n",
    "\n",
    "# 用指数形式来拟合\n",
    "\n",
    "x = np.array([4,8,16,32,64,128,256,1024])\n",
    "\n",
    "ynor = np.array([0,0,0,0.003,0.014,0.128,1.043,9.542,74.252,773.069])\n",
    "\n",
    "ystr=np.array([])\n",
    "\n",
    "\n",
    "def func(x, a, b):\n",
    "\n",
    "    return a * np.exp(b / x)\n",
    "\n",
    "\n",
    "popt, pcov = curve_fit(func, x, y)\n",
    "\n",
    "a = popt[0]  # popt里面是拟合系数，读者可以自己help其用法\n",
    "\n",
    "b = popt[1]\n",
    "\n",
    "yvals = func(x, a, b)\n",
    "\n",
    "plot1 = plt.plot(x, y, \"*\", label=\"original values\")\n",
    "\n",
    "plot2 = plt.plot(x, yvals, \"r\", label=\"curve_fit values\")\n",
    "\n",
    "plt.xlabel(\"xaxis\")\n",
    "\n",
    "plt.ylabel(\"yaxis\")\n",
    "\n",
    "plt.legend(loc=4)  # 指定legend的位置,读者可以自己help它的用法\n",
    "\n",
    "plt.title(\"curve_fit\")\n",
    "\n",
    "plt.show()"
   ]
  }
 ],
 "metadata": {
  "kernelspec": {
   "display_name": "Python 3.7.4 64-bit ('base': conda)",
   "language": "python",
   "name": "python37464bitbasecondaf25785b632ca4268bcef5a2f7b740f97"
  },
  "language_info": {
   "codemirror_mode": {
    "name": "ipython",
    "version": 3
   },
   "file_extension": ".py",
   "mimetype": "text/x-python",
   "name": "python",
   "nbconvert_exporter": "python",
   "pygments_lexer": "ipython3",
   "version": "3.7.9"
  }
 },
 "nbformat": 4,
 "nbformat_minor": 4
}
